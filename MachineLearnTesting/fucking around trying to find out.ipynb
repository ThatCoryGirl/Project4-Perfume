{
 "cells": [
  {
   "cell_type": "code",
   "execution_count": 6,
   "id": "16376478",
   "metadata": {},
   "outputs": [
    {
     "data": {
      "text/html": [
       "<div>\n",
       "<style scoped>\n",
       "    .dataframe tbody tr th:only-of-type {\n",
       "        vertical-align: middle;\n",
       "    }\n",
       "\n",
       "    .dataframe tbody tr th {\n",
       "        vertical-align: top;\n",
       "    }\n",
       "\n",
       "    .dataframe thead th {\n",
       "        text-align: right;\n",
       "    }\n",
       "</style>\n",
       "<table border=\"1\" class=\"dataframe\">\n",
       "  <thead>\n",
       "    <tr style=\"text-align: right;\">\n",
       "      <th></th>\n",
       "      <th>brand</th>\n",
       "      <th>perfume</th>\n",
       "      <th>launch_year</th>\n",
       "      <th>main_accords_dirty</th>\n",
       "      <th>notes</th>\n",
       "      <th>longevity</th>\n",
       "      <th>sillage</th>\n",
       "      <th>Maine_accords</th>\n",
       "    </tr>\n",
       "  </thead>\n",
       "  <tbody>\n",
       "    <tr>\n",
       "      <th>0</th>\n",
       "      <td>Aerin Lauder</td>\n",
       "      <td>Rose de Grasse d Or</td>\n",
       "      <td>2017.0</td>\n",
       "      <td>[\"woody\", \"musky\", \"leather\", \"patchouli\", \"ro...</td>\n",
       "      <td>{\"middle\": null, \"base\": [\"Bulgarian Rose\", \"P...</td>\n",
       "      <td>[\"0\", \"0\", \"0\", \"0\", \"0\"]</td>\n",
       "      <td>[\"0\", \"0\", \"0\", \"0\"]</td>\n",
       "      <td>woody, musky, leather, patchouli, rose, oud</td>\n",
       "    </tr>\n",
       "    <tr>\n",
       "      <th>1</th>\n",
       "      <td>Calvin Klein</td>\n",
       "      <td>CK All</td>\n",
       "      <td>2017.0</td>\n",
       "      <td>[\"amber\", \"citrus\", \"white floral\", \"animalic\"...</td>\n",
       "      <td>{\"middle\": [\"Citrus Blossom\", \"Jasmine\"], \"bas...</td>\n",
       "      <td>[\"1\", \"1\", \"1\", \"0\", \"18\"]</td>\n",
       "      <td>[\"3\", \"1\", \"2\", \"17\"]</td>\n",
       "      <td>amber, citrus, white floral, animalic, balsamic</td>\n",
       "    </tr>\n",
       "    <tr>\n",
       "      <th>2</th>\n",
       "      <td>Clean</td>\n",
       "      <td>Clean For Men Black Leather</td>\n",
       "      <td>2017.0</td>\n",
       "      <td>[\"fresh spicy\", \"aromatic\", \"green\", \"marine\",...</td>\n",
       "      <td>{\"middle\": [\"Juniper\", \"Mint\", \"Orchid\"], \"bas...</td>\n",
       "      <td>[\"0\", \"0\", \"2\", \"0\", \"0\"]</td>\n",
       "      <td>[\"1\", \"1\", \"0\", \"0\"]</td>\n",
       "      <td>fresh spicy, aromatic, green, marine, musky, w...</td>\n",
       "    </tr>\n",
       "    <tr>\n",
       "      <th>3</th>\n",
       "      <td>Clean</td>\n",
       "      <td>Clean For Men White Vetiver</td>\n",
       "      <td>2017.0</td>\n",
       "      <td>[\"woody\", \"aromatic\", \"citrus\", \"fresh spicy\",...</td>\n",
       "      <td>{\"middle\": [\"Vetiver\", \"Cottonwood (Poplar)\", ...</td>\n",
       "      <td>[\"0\", \"0\", \"2\", \"0\", \"0\"]</td>\n",
       "      <td>[\"0\", \"1\", \"0\", \"0\"]</td>\n",
       "      <td>woody, aromatic, citrus, fresh spicy, earthy</td>\n",
       "    </tr>\n",
       "    <tr>\n",
       "      <th>4</th>\n",
       "      <td>Clean</td>\n",
       "      <td>Clean Lovegrass</td>\n",
       "      <td>2017.0</td>\n",
       "      <td>[\"citrus\", \"white floral\", \"sweet\", \"floral\", ...</td>\n",
       "      <td>{\"middle\": [\"iris\", \"Orange Blossom\", \"Rose Pe...</td>\n",
       "      <td>[\"0\", \"0\", \"0\", \"0\", \"0\"]</td>\n",
       "      <td>[\"0\", \"0\", \"0\", \"0\"]</td>\n",
       "      <td>citrus, white floral, sweet, floral, woody, musky</td>\n",
       "    </tr>\n",
       "  </tbody>\n",
       "</table>\n",
       "</div>"
      ],
      "text/plain": [
       "          brand                      perfume  launch_year  \\\n",
       "0  Aerin Lauder          Rose de Grasse d Or       2017.0   \n",
       "1  Calvin Klein                       CK All       2017.0   \n",
       "2         Clean  Clean For Men Black Leather       2017.0   \n",
       "3         Clean  Clean For Men White Vetiver       2017.0   \n",
       "4         Clean              Clean Lovegrass       2017.0   \n",
       "\n",
       "                                  main_accords_dirty  \\\n",
       "0  [\"woody\", \"musky\", \"leather\", \"patchouli\", \"ro...   \n",
       "1  [\"amber\", \"citrus\", \"white floral\", \"animalic\"...   \n",
       "2  [\"fresh spicy\", \"aromatic\", \"green\", \"marine\",...   \n",
       "3  [\"woody\", \"aromatic\", \"citrus\", \"fresh spicy\",...   \n",
       "4  [\"citrus\", \"white floral\", \"sweet\", \"floral\", ...   \n",
       "\n",
       "                                               notes  \\\n",
       "0  {\"middle\": null, \"base\": [\"Bulgarian Rose\", \"P...   \n",
       "1  {\"middle\": [\"Citrus Blossom\", \"Jasmine\"], \"bas...   \n",
       "2  {\"middle\": [\"Juniper\", \"Mint\", \"Orchid\"], \"bas...   \n",
       "3  {\"middle\": [\"Vetiver\", \"Cottonwood (Poplar)\", ...   \n",
       "4  {\"middle\": [\"iris\", \"Orange Blossom\", \"Rose Pe...   \n",
       "\n",
       "                    longevity                sillage  \\\n",
       "0   [\"0\", \"0\", \"0\", \"0\", \"0\"]   [\"0\", \"0\", \"0\", \"0\"]   \n",
       "1  [\"1\", \"1\", \"1\", \"0\", \"18\"]  [\"3\", \"1\", \"2\", \"17\"]   \n",
       "2   [\"0\", \"0\", \"2\", \"0\", \"0\"]   [\"1\", \"1\", \"0\", \"0\"]   \n",
       "3   [\"0\", \"0\", \"2\", \"0\", \"0\"]   [\"0\", \"1\", \"0\", \"0\"]   \n",
       "4   [\"0\", \"0\", \"0\", \"0\", \"0\"]   [\"0\", \"0\", \"0\", \"0\"]   \n",
       "\n",
       "                                       Maine_accords  \n",
       "0        woody, musky, leather, patchouli, rose, oud  \n",
       "1    amber, citrus, white floral, animalic, balsamic  \n",
       "2  fresh spicy, aromatic, green, marine, musky, w...  \n",
       "3       woody, aromatic, citrus, fresh spicy, earthy  \n",
       "4  citrus, white floral, sweet, floral, woody, musky  "
      ]
     },
     "execution_count": 6,
     "metadata": {},
     "output_type": "execute_result"
    }
   ],
   "source": [
    "#import dependency for SQLite database\n",
    "import sqlite3\n",
    "import pandas as pd\n",
    "# Connect to the SQLite database\n",
    "conn = sqlite3.connect(\"../Resources/perfume.db\")\n",
    "# Create a cursor object to execute SQL queries\n",
    "cur = conn.cursor()\n",
    "# Fetch all rows from the 'Review_Included' table\n",
    "cur.execute(\"SELECT * FROM No_Reviews\")\n",
    "# Fetch all rows from the 'Review_Included' table\n",
    "rows = cur.fetchall()\n",
    "# Close the cursor and connection\n",
    "cur.close()\n",
    "conn.close()\n",
    "# Convert fetched data into a pandas DataFrame\n",
    "# Get column names\n",
    "columns = [col[0] for col in cur.description]\n",
    "review_df = pd.DataFrame(rows, columns=columns)\n",
    "# Display the first few rows of the DataFrame\n",
    "review_df.head()"
   ]
  },
  {
   "cell_type": "code",
   "execution_count": 7,
   "id": "c0305417",
   "metadata": {},
   "outputs": [
    {
     "name": "stdout",
     "output_type": "stream",
     "text": [
      "An error occurred: no such table: No_Reviews\n"
     ]
    }
   ],
   "source": [
    "try:\n",
    "    # Execute the query\n",
    "    cursor.execute('SELECT * FROM No_Reviews')\n",
    "    \n",
    "    # Fetch data and display\n",
    "    rows = cursor.fetchall()\n",
    "    for row in rows:\n",
    "        print(row)\n",
    "except sqlite3.Error as e:\n",
    "    print(\"An error occurred:\", e)\n",
    "    \n",
    "finally:\n",
    "    # Close the connection\n",
    "    conn.close()"
   ]
  },
  {
   "cell_type": "code",
   "execution_count": 4,
   "id": "f950104e",
   "metadata": {
    "scrolled": true
   },
   "outputs": [
    {
     "ename": "NameError",
     "evalue": "name 'c' is not defined",
     "output_type": "error",
     "traceback": [
      "\u001b[1;31m---------------------------------------------------------------------------\u001b[0m",
      "\u001b[1;31mNameError\u001b[0m                                 Traceback (most recent call last)",
      "Cell \u001b[1;32mIn[4], line 1\u001b[0m\n\u001b[1;32m----> 1\u001b[0m c\u001b[38;5;241m.\u001b[39mexecute(\u001b[38;5;124m\"\u001b[39m\u001b[38;5;124mSELECT name FROM No_Reviews WHERE type=\u001b[39m\u001b[38;5;124m'\u001b[39m\u001b[38;5;124mtable\u001b[39m\u001b[38;5;124m'\u001b[39m\u001b[38;5;124m;\u001b[39m\u001b[38;5;124m\"\u001b[39m)\n\u001b[0;32m      2\u001b[0m tables \u001b[38;5;241m=\u001b[39m c\u001b[38;5;241m.\u001b[39mfetchall()\n\u001b[0;32m      3\u001b[0m \u001b[38;5;28mprint\u001b[39m(\u001b[38;5;124m\"\u001b[39m\u001b[38;5;124mTables in the database:\u001b[39m\u001b[38;5;124m\"\u001b[39m, tables)\n",
      "\u001b[1;31mNameError\u001b[0m: name 'c' is not defined"
     ]
    }
   ],
   "source": [
    "c.execute(\"SELECT name FROM No_Reviews WHERE type='table';\")\n",
    "tables = c.fetchall()\n",
    "print(\"Tables in the database:\", tables)"
   ]
  },
  {
   "cell_type": "code",
   "execution_count": 4,
   "id": "2f906fe8",
   "metadata": {
    "scrolled": true
   },
   "outputs": [
    {
     "name": "stdout",
     "output_type": "stream",
     "text": [
      "Welcome to Perfume Bot!\n",
      "I can provide information about perfumes. Ask me anything!\n",
      "You: Kiss\n"
     ]
    },
    {
     "ename": "OperationalError",
     "evalue": "no such column: name",
     "output_type": "error",
     "traceback": [
      "\u001b[1;31m---------------------------------------------------------------------------\u001b[0m",
      "\u001b[1;31mOperationalError\u001b[0m                          Traceback (most recent call last)",
      "Cell \u001b[1;32mIn[4], line 44\u001b[0m\n\u001b[0;32m     41\u001b[0m             \u001b[38;5;28mprint\u001b[39m(\u001b[38;5;124m\"\u001b[39m\u001b[38;5;124mSorry, I couldn\u001b[39m\u001b[38;5;124m'\u001b[39m\u001b[38;5;124mt find any information about that perfume.\u001b[39m\u001b[38;5;124m\"\u001b[39m)\n\u001b[0;32m     43\u001b[0m \u001b[38;5;66;03m# Start the chatbot\u001b[39;00m\n\u001b[1;32m---> 44\u001b[0m chatbot()\n",
      "Cell \u001b[1;32mIn[4], line 35\u001b[0m, in \u001b[0;36mchatbot\u001b[1;34m()\u001b[0m\n\u001b[0;32m     32\u001b[0m     \u001b[38;5;28mprint\u001b[39m(\u001b[38;5;124m\"\u001b[39m\u001b[38;5;124mGoodbye!\u001b[39m\u001b[38;5;124m\"\u001b[39m)\n\u001b[0;32m     33\u001b[0m     \u001b[38;5;28;01mbreak\u001b[39;00m\n\u001b[1;32m---> 35\u001b[0m perfume \u001b[38;5;241m=\u001b[39m get_perfume_by_name(user_input)\n\u001b[0;32m     36\u001b[0m \u001b[38;5;28;01mif\u001b[39;00m perfume:\n\u001b[0;32m     37\u001b[0m     \u001b[38;5;28mprint\u001b[39m(\u001b[38;5;124m\"\u001b[39m\u001b[38;5;124mPerfume Name:\u001b[39m\u001b[38;5;124m\"\u001b[39m, perfume[\u001b[38;5;241m0\u001b[39m])\n",
      "Cell \u001b[1;32mIn[4], line 13\u001b[0m, in \u001b[0;36mget_perfume_by_name\u001b[1;34m(name)\u001b[0m\n\u001b[0;32m     10\u001b[0m c \u001b[38;5;241m=\u001b[39m conn\u001b[38;5;241m.\u001b[39mcursor()\n\u001b[0;32m     12\u001b[0m \u001b[38;5;66;03m# Execute query to retrieve perfume information\u001b[39;00m\n\u001b[1;32m---> 13\u001b[0m c\u001b[38;5;241m.\u001b[39mexecute(\u001b[38;5;124m\"\u001b[39m\u001b[38;5;124mSELECT * FROM No_Reviews WHERE name=?\u001b[39m\u001b[38;5;124m\"\u001b[39m, (name,))\n\u001b[0;32m     14\u001b[0m perfume \u001b[38;5;241m=\u001b[39m c\u001b[38;5;241m.\u001b[39mfetchone()\n\u001b[0;32m     16\u001b[0m \u001b[38;5;66;03m# Close the connection to the database\u001b[39;00m\n",
      "\u001b[1;31mOperationalError\u001b[0m: no such column: name"
     ]
    }
   ],
   "source": [
    "import sqlite3\n",
    "\n",
    "# Function to retrieve perfume information by name from the database\n",
    "def get_perfume_by_name(name):\n",
    "    \"\"\"\n",
    "    Retrieve perfume information from the database based on name.\n",
    "    \"\"\"\n",
    "    # Connect to the SQLite database\n",
    "    conn = sqlite3.connect('perfume.db')\n",
    "    c = conn.cursor()\n",
    "    \n",
    "    # Execute query to retrieve perfume information\n",
    "    c.execute(\"SELECT * FROM No_Reviews WHERE name=?\", (name,))\n",
    "    perfume = c.fetchone()\n",
    "    \n",
    "    # Close the connection to the database\n",
    "    conn.close()\n",
    "    \n",
    "    return perfume\n",
    "\n",
    "# Define the chatbot function\n",
    "def chatbot():\n",
    "    \"\"\"\n",
    "    Simple chatbot to interact with the user.\n",
    "    \"\"\"\n",
    "    print(\"Welcome to Perfume Bot!\")\n",
    "    print(\"I can provide information about perfumes. Ask me anything!\")\n",
    "    while True:\n",
    "        user_input = input(\"You: \").strip().lower()\n",
    "        \n",
    "        if user_input == 'exit':\n",
    "            print(\"Goodbye!\")\n",
    "            break\n",
    "        \n",
    "        perfume = get_perfume_by_name(user_input)\n",
    "        if perfume:\n",
    "            print(\"Perfume Name:\", perfume[0])\n",
    "            print(\"Brand:\", perfume[1])\n",
    "            print(\"Price:\", perfume[2])\n",
    "        else:\n",
    "            print(\"Sorry, I couldn't find any information about that perfume.\")\n",
    "\n",
    "# Start the chatbot\n",
    "chatbot()"
   ]
  },
  {
   "cell_type": "code",
   "execution_count": null,
   "id": "5f0fd5fa",
   "metadata": {},
   "outputs": [],
   "source": []
  },
  {
   "cell_type": "code",
   "execution_count": null,
   "id": "964a7248",
   "metadata": {},
   "outputs": [],
   "source": []
  }
 ],
 "metadata": {
  "kernelspec": {
   "display_name": "Python 3 (ipykernel)",
   "language": "python",
   "name": "python3"
  },
  "language_info": {
   "codemirror_mode": {
    "name": "ipython",
    "version": 3
   },
   "file_extension": ".py",
   "mimetype": "text/x-python",
   "name": "python",
   "nbconvert_exporter": "python",
   "pygments_lexer": "ipython3",
   "version": "3.11.5"
  }
 },
 "nbformat": 4,
 "nbformat_minor": 5
}
