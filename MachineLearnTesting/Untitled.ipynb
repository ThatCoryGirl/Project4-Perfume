{
 "cells": [
  {
   "cell_type": "code",
   "execution_count": 2,
   "id": "c015817f",
   "metadata": {},
   "outputs": [
    {
     "ename": "OperationalError",
     "evalue": "no such column: \"main_accords_dirty\"",
     "output_type": "error",
     "traceback": [
      "\u001b[1;31m---------------------------------------------------------------------------\u001b[0m",
      "\u001b[1;31mOperationalError\u001b[0m                          Traceback (most recent call last)",
      "Cell \u001b[1;32mIn[2], line 9\u001b[0m\n\u001b[0;32m      7\u001b[0m \u001b[38;5;66;03m# Step 1: Drop the column main_accords_dirty\u001b[39;00m\n\u001b[0;32m      8\u001b[0m drop_column_query \u001b[38;5;241m=\u001b[39m \u001b[38;5;124m\"\u001b[39m\u001b[38;5;124mALTER TABLE No_Reviews DROP COLUMN main_accords_dirty\u001b[39m\u001b[38;5;124m\"\u001b[39m\n\u001b[1;32m----> 9\u001b[0m cursor\u001b[38;5;241m.\u001b[39mexecute(drop_column_query)\n\u001b[0;32m     11\u001b[0m \u001b[38;5;66;03m# Step 2: Split the data in the Maine_accords column into separate accord strings\u001b[39;00m\n\u001b[0;32m     12\u001b[0m select_query \u001b[38;5;241m=\u001b[39m \u001b[38;5;124m\"\u001b[39m\u001b[38;5;124mSELECT Maine_accords FROM No_Reviews\u001b[39m\u001b[38;5;124m\"\u001b[39m\n",
      "\u001b[1;31mOperationalError\u001b[0m: no such column: \"main_accords_dirty\""
     ]
    }
   ],
   "source": [
    "import sqlite3\n",
    "\n",
    "# Connect to the SQLite database\n",
    "conn = sqlite3.connect('perfume.db')\n",
    "cursor = conn.cursor()\n",
    "\n",
    "# Step 1: Drop the column main_accords_dirty\n",
    "drop_column_query = \"ALTER TABLE No_Reviews DROP COLUMN main_accords_dirty\"\n",
    "cursor.execute(drop_column_query)\n",
    "\n",
    "# Step 2: Split the data in the Maine_accords column into separate accord strings\n",
    "select_query = \"SELECT Maine_accords FROM No_Reviews\"\n",
    "cursor.execute(select_query)\n",
    "rows = cursor.fetchall()\n",
    "\n",
    "# Step 3: Concatenate the accord strings for each entry with commas\n",
    "updated_rows = []\n",
    "for row in rows:\n",
    "    main_accords = row[0]\n",
    "    if main_accords is not None:\n",
    "        main_accords = main_accords.strip('[]').replace('\"', '').split(', ')\n",
    "        accords_str = ', '.join([f'accord {i+1}' for i in range(len(main_accords))])\n",
    "    else:\n",
    "        accords_str = None\n",
    "    updated_rows.append((accords_str,))\n",
    "\n",
    "# Step 4: Create a new column to store the concatenated accord strings\n",
    "create_column_query = \"ALTER TABLE No_Reviews ADD COLUMN all_accords TEXT\"\n",
    "cursor.execute(create_column_query)\n",
    "\n",
    "# Step 5: Update the table with the concatenated accord strings\n",
    "update_query = \"UPDATE No_Reviews SET all_accords = ? WHERE rowid = ?\"\n",
    "cursor.executemany(update_query, updated_rows)\n",
    "\n",
    "# Step 6: Commit the changes and close the connection\n",
    "conn.commit()\n",
    "conn.close()"
   ]
  },
  {
   "cell_type": "code",
   "execution_count": null,
   "id": "8add1909",
   "metadata": {},
   "outputs": [],
   "source": []
  }
 ],
 "metadata": {
  "kernelspec": {
   "display_name": "Python 3 (ipykernel)",
   "language": "python",
   "name": "python3"
  },
  "language_info": {
   "codemirror_mode": {
    "name": "ipython",
    "version": 3
   },
   "file_extension": ".py",
   "mimetype": "text/x-python",
   "name": "python",
   "nbconvert_exporter": "python",
   "pygments_lexer": "ipython3",
   "version": "3.11.5"
  }
 },
 "nbformat": 4,
 "nbformat_minor": 5
}
