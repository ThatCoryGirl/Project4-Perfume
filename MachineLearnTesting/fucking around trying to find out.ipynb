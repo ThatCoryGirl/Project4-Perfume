{
 "cells": [
  {
   "cell_type": "code",
   "execution_count": 12,
   "id": "bc6991ea",
   "metadata": {},
   "outputs": [
    {
     "ename": "OperationalError",
     "evalue": "no such table: No_Reviews",
     "output_type": "error",
     "traceback": [
      "\u001b[1;31m---------------------------------------------------------------------------\u001b[0m",
      "\u001b[1;31mOperationalError\u001b[0m                          Traceback (most recent call last)",
      "Cell \u001b[1;32mIn[12], line 10\u001b[0m\n\u001b[0;32m      7\u001b[0m cursor \u001b[38;5;241m=\u001b[39m conn\u001b[38;5;241m.\u001b[39mcursor()\n\u001b[0;32m      9\u001b[0m \u001b[38;5;66;03m# Execute a query to select all rows from the No_Reviews table\u001b[39;00m\n\u001b[1;32m---> 10\u001b[0m cursor\u001b[38;5;241m.\u001b[39mexecute(\u001b[38;5;124m'\u001b[39m\u001b[38;5;124mSELECT * FROM No_Reviews\u001b[39m\u001b[38;5;124m'\u001b[39m)\n\u001b[0;32m     12\u001b[0m \u001b[38;5;66;03m# Fetch data (example: fetch all rows)\u001b[39;00m\n\u001b[0;32m     13\u001b[0m rows \u001b[38;5;241m=\u001b[39m cursor\u001b[38;5;241m.\u001b[39mfetchall()\n",
      "\u001b[1;31mOperationalError\u001b[0m: no such table: No_Reviews"
     ]
    }
   ],
   "source": [
    "import sqlite3\n",
    "\n",
    "# Connect to the SQLite database\n",
    "conn = sqlite3.connect('perfume.db')\n",
    "\n",
    "# Create a cursor object\n",
    "cursor = conn.cursor()\n",
    "\n",
    "# Execute a query to select all rows from the No_Reviews table\n",
    "cursor.execute('SELECT * FROM No_Reviews')\n",
    "\n",
    "# Fetch data (example: fetch all rows)\n",
    "rows = cursor.fetchall()\n",
    "\n",
    "# Display the fetched data\n",
    "for row in rows:\n",
    "    print(row)\n",
    "\n",
    "# Close the connection\n",
    "conn.close()"
   ]
  },
  {
   "cell_type": "code",
   "execution_count": null,
   "id": "c0305417",
   "metadata": {},
   "outputs": [],
   "source": []
  },
  {
   "cell_type": "code",
   "execution_count": 7,
   "id": "f950104e",
   "metadata": {
    "scrolled": true
   },
   "outputs": [
    {
     "ename": "OperationalError",
     "evalue": "no such table: No_Reviews",
     "output_type": "error",
     "traceback": [
      "\u001b[1;31m---------------------------------------------------------------------------\u001b[0m",
      "\u001b[1;31mOperationalError\u001b[0m                          Traceback (most recent call last)",
      "Cell \u001b[1;32mIn[7], line 1\u001b[0m\n\u001b[1;32m----> 1\u001b[0m c\u001b[38;5;241m.\u001b[39mexecute(\u001b[38;5;124m\"\u001b[39m\u001b[38;5;124mSELECT name FROM No_Reviews WHERE type=\u001b[39m\u001b[38;5;124m'\u001b[39m\u001b[38;5;124mtable\u001b[39m\u001b[38;5;124m'\u001b[39m\u001b[38;5;124m;\u001b[39m\u001b[38;5;124m\"\u001b[39m)\n\u001b[0;32m      2\u001b[0m tables \u001b[38;5;241m=\u001b[39m c\u001b[38;5;241m.\u001b[39mfetchall()\n\u001b[0;32m      3\u001b[0m \u001b[38;5;28mprint\u001b[39m(\u001b[38;5;124m\"\u001b[39m\u001b[38;5;124mTables in the database:\u001b[39m\u001b[38;5;124m\"\u001b[39m, tables)\n",
      "\u001b[1;31mOperationalError\u001b[0m: no such table: No_Reviews"
     ]
    }
   ],
   "source": [
    "c.execute(\"SELECT name FROM No_Reviews WHERE type='table';\")\n",
    "tables = c.fetchall()\n",
    "print(\"Tables in the database:\", tables)"
   ]
  },
  {
   "cell_type": "code",
   "execution_count": 3,
   "id": "2f906fe8",
   "metadata": {
    "scrolled": true
   },
   "outputs": [
    {
     "name": "stdout",
     "output_type": "stream",
     "text": [
      "Welcome to Perfume Bot!\n",
      "I can provide information about perfumes. Ask me anything!\n",
      "You: Kiss\n"
     ]
    },
    {
     "ename": "OperationalError",
     "evalue": "no such table: No_Reviews",
     "output_type": "error",
     "traceback": [
      "\u001b[1;31m---------------------------------------------------------------------------\u001b[0m",
      "\u001b[1;31mOperationalError\u001b[0m                          Traceback (most recent call last)",
      "Cell \u001b[1;32mIn[3], line 23\u001b[0m\n\u001b[0;32m     20\u001b[0m             \u001b[38;5;28mprint\u001b[39m(\u001b[38;5;124m\"\u001b[39m\u001b[38;5;124mSorry, I couldn\u001b[39m\u001b[38;5;124m'\u001b[39m\u001b[38;5;124mt find any information about that perfume.\u001b[39m\u001b[38;5;124m\"\u001b[39m)\n\u001b[0;32m     22\u001b[0m \u001b[38;5;66;03m# Start the chatbot\u001b[39;00m\n\u001b[1;32m---> 23\u001b[0m chatbot()\n\u001b[0;32m     25\u001b[0m \u001b[38;5;66;03m# Close the connection to the database\u001b[39;00m\n\u001b[0;32m     26\u001b[0m conn\u001b[38;5;241m.\u001b[39mclose()\n",
      "Cell \u001b[1;32mIn[3], line 14\u001b[0m, in \u001b[0;36mchatbot\u001b[1;34m()\u001b[0m\n\u001b[0;32m     11\u001b[0m     \u001b[38;5;28mprint\u001b[39m(\u001b[38;5;124m\"\u001b[39m\u001b[38;5;124mGoodbye!\u001b[39m\u001b[38;5;124m\"\u001b[39m)\n\u001b[0;32m     12\u001b[0m     \u001b[38;5;28;01mbreak\u001b[39;00m\n\u001b[1;32m---> 14\u001b[0m perfume \u001b[38;5;241m=\u001b[39m get_perfume_by_name(user_input)\n\u001b[0;32m     15\u001b[0m \u001b[38;5;28;01mif\u001b[39;00m perfume:\n\u001b[0;32m     16\u001b[0m     \u001b[38;5;28mprint\u001b[39m(\u001b[38;5;124m\"\u001b[39m\u001b[38;5;124mPerfume Name:\u001b[39m\u001b[38;5;124m\"\u001b[39m, perfume[\u001b[38;5;241m0\u001b[39m])\n",
      "Cell \u001b[1;32mIn[2], line 11\u001b[0m, in \u001b[0;36mget_perfume_by_name\u001b[1;34m(name)\u001b[0m\n\u001b[0;32m      7\u001b[0m \u001b[38;5;28;01mdef\u001b[39;00m \u001b[38;5;21mget_perfume_by_name\u001b[39m(name):\n\u001b[0;32m      8\u001b[0m \u001b[38;5;250m    \u001b[39m\u001b[38;5;124;03m\"\"\"\u001b[39;00m\n\u001b[0;32m      9\u001b[0m \u001b[38;5;124;03m    Retrieve perfume information from the database based on name.\u001b[39;00m\n\u001b[0;32m     10\u001b[0m \u001b[38;5;124;03m    \"\"\"\u001b[39;00m\n\u001b[1;32m---> 11\u001b[0m     c\u001b[38;5;241m.\u001b[39mexecute(\u001b[38;5;124m\"\u001b[39m\u001b[38;5;124mSELECT * FROM No_Reviews WHERE name=?\u001b[39m\u001b[38;5;124m\"\u001b[39m, (name,))\n\u001b[0;32m     12\u001b[0m     perfume \u001b[38;5;241m=\u001b[39m c\u001b[38;5;241m.\u001b[39mfetchone()\n\u001b[0;32m     13\u001b[0m     \u001b[38;5;28;01mreturn\u001b[39;00m perfume\n",
      "\u001b[1;31mOperationalError\u001b[0m: no such table: No_Reviews"
     ]
    }
   ],
   "source": [
    "\n",
    "def chatbot():\n",
    "    \"\"\"\n",
    "    Simple chatbot to interact with the user.\n",
    "    \"\"\"\n",
    "    print(\"Welcome to Perfume Bot!\")\n",
    "    print(\"I can provide information about perfumes. Ask me anything!\")\n",
    "    while True:\n",
    "        user_input = input(\"You: \").strip().lower()\n",
    "        \n",
    "        if user_input == 'exit':\n",
    "            print(\"Goodbye!\")\n",
    "            break\n",
    "        \n",
    "        perfume = get_perfume_by_name(user_input)\n",
    "        if perfume:\n",
    "            print(\"Perfume Name:\", perfume[0])\n",
    "            print(\"Brand:\", perfume[1])\n",
    "            print(\"Price:\", perfume[2])\n",
    "        else:\n",
    "            print(\"Sorry, I couldn't find any information about that perfume.\")\n",
    "\n",
    "# Start the chatbot\n",
    "chatbot()\n",
    "\n",
    "# Close the connection to the database\n",
    "conn.close()"
   ]
  },
  {
   "cell_type": "code",
   "execution_count": null,
   "id": "5f0fd5fa",
   "metadata": {},
   "outputs": [],
   "source": []
  },
  {
   "cell_type": "code",
   "execution_count": null,
   "id": "964a7248",
   "metadata": {},
   "outputs": [],
   "source": []
  }
 ],
 "metadata": {
  "kernelspec": {
   "display_name": "Python 3 (ipykernel)",
   "language": "python",
   "name": "python3"
  },
  "language_info": {
   "codemirror_mode": {
    "name": "ipython",
    "version": 3
   },
   "file_extension": ".py",
   "mimetype": "text/x-python",
   "name": "python",
   "nbconvert_exporter": "python",
   "pygments_lexer": "ipython3",
   "version": "3.11.5"
  }
 },
 "nbformat": 4,
 "nbformat_minor": 5
}
