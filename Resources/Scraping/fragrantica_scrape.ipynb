{
 "cells": [
  {
   "cell_type": "code",
   "execution_count": null,
   "id": "c9a8a64e",
   "metadata": {},
   "outputs": [],
   "source": [
    "# Import dependencies\n",
    "import scrapy\n",
    "\n",
    "# Using scraping tool called 'spider' to go through the entire website\n",
    "class MySpider(scrapy.Spider):\n",
    "    name = 'myspider'\n",
    "    start_urls = ['https://www.fragrantica.com/search/']\n",
    "\n",
    "    def parse(self, response):\n",
    "        # Extract data from the current page\n",
    "        # For example:\n",
    "        title = response.css('h1::text').get()\n",
    "        yield {'title': title}\n",
    "\n",
    "        # Follow links to other pages\n",
    "        for next_page in response.css('a::attr(href)').getall():\n",
    "            yield response.follow(next_page, callback=self.parse)"
   ]
  }
 ],
 "metadata": {
  "kernelspec": {
   "display_name": "Python 3 (ipykernel)",
   "language": "python",
   "name": "python3"
  },
  "language_info": {
   "codemirror_mode": {
    "name": "ipython",
    "version": 3
   },
   "file_extension": ".py",
   "mimetype": "text/x-python",
   "name": "python",
   "nbconvert_exporter": "python",
   "pygments_lexer": "ipython3",
   "version": "3.11.5"
  }
 },
 "nbformat": 4,
 "nbformat_minor": 5
}
