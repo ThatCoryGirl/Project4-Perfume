{
 "cells": [
  {
   "cell_type": "markdown",
   "id": "3700afb3",
   "metadata": {},
   "source": [
    "In this notebook we will be testing a decision tree chatbot to help users decide what perfume is right for them."
   ]
  },
  {
   "cell_type": "code",
   "execution_count": 1,
   "id": "be0bc604",
   "metadata": {},
   "outputs": [],
   "source": [
    "# Import Dependencies\n",
    "from sklearn.tree import DecisionTreeClassifier\n",
    "from sklearn.preprocessing import LabelEncoder\n",
    "from sklearn.model_selection import train_test_split\n",
    "from sklearn.metrics import accuracy_score"
   ]
  },
  {
   "cell_type": "code",
   "execution_count": 2,
   "id": "1ba90d2a",
   "metadata": {},
   "outputs": [],
   "source": [
    "# Gather datasets from database"
   ]
  },
  {
   "cell_type": "code",
   "execution_count": 3,
   "id": "08c76303",
   "metadata": {},
   "outputs": [],
   "source": [
    "# Create DataFrame to see what the data looks like"
   ]
  },
  {
   "cell_type": "code",
   "execution_count": 4,
   "id": "d039d89e",
   "metadata": {},
   "outputs": [],
   "source": [
    "# Determine what data can be used and cannot be used for questions"
   ]
  },
  {
   "cell_type": "code",
   "execution_count": 5,
   "id": "2b6d4018",
   "metadata": {},
   "outputs": [],
   "source": [
    "# Determine your X and Y values"
   ]
  },
  {
   "cell_type": "code",
   "execution_count": 6,
   "id": "c989e2bd",
   "metadata": {},
   "outputs": [],
   "source": [
    "# Convert categorial features to numerical labels"
   ]
  },
  {
   "cell_type": "code",
   "execution_count": 7,
   "id": "aaa7e763",
   "metadata": {},
   "outputs": [],
   "source": [
    "# Split dataset into training and testing sets (the default is train 75%, test 25%)"
   ]
  },
  {
   "cell_type": "code",
   "execution_count": 8,
   "id": "03dfc7f9",
   "metadata": {},
   "outputs": [],
   "source": [
    "#Initialize and train decision tree classifier"
   ]
  },
  {
   "cell_type": "code",
   "execution_count": 9,
   "id": "32580b1f",
   "metadata": {},
   "outputs": [],
   "source": [
    "# Make predictions on the test set"
   ]
  },
  {
   "cell_type": "code",
   "execution_count": 10,
   "id": "8665cfde",
   "metadata": {},
   "outputs": [],
   "source": [
    "# Calculate accuracy"
   ]
  },
  {
   "cell_type": "code",
   "execution_count": 11,
   "id": "c3a7ac47",
   "metadata": {},
   "outputs": [],
   "source": [
    "# Create prediction using specific features"
   ]
  },
  {
   "cell_type": "code",
   "execution_count": null,
   "id": "9a8b0b54",
   "metadata": {},
   "outputs": [],
   "source": [
    "# Predict"
   ]
  }
 ],
 "metadata": {
  "kernelspec": {
   "display_name": "Python 3 (ipykernel)",
   "language": "python",
   "name": "python3"
  },
  "language_info": {
   "codemirror_mode": {
    "name": "ipython",
    "version": 3
   },
   "file_extension": ".py",
   "mimetype": "text/x-python",
   "name": "python",
   "nbconvert_exporter": "python",
   "pygments_lexer": "ipython3",
   "version": "3.10.13"
  }
 },
 "nbformat": 4,
 "nbformat_minor": 5
}
